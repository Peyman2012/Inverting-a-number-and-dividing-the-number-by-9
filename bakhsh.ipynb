{
 "cells": [
  {
   "cell_type": "code",
   "execution_count": 4,
   "metadata": {},
   "outputs": [
    {
     "name": "stdout",
     "output_type": "stream",
     "text": [
      "Enter n:4\n"
     ]
    }
   ],
   "source": [
    "n=int(input(\"Enter n:\"))"
   ]
  },
  {
   "cell_type": "code",
   "execution_count": 5,
   "metadata": {},
   "outputs": [
    {
     "name": "stdout",
     "output_type": "stream",
     "text": [
      "Enter num:8\n",
      "Enter num:123\n",
      "Enter num:981\n",
      "981\n",
      "Enter num:51\n"
     ]
    }
   ],
   "source": [
    "for i in range(1,n+1):\n",
    "    num=input(\"Enter num:\")\n",
    "    temp=int(num[::-1])\n",
    "    if ((temp%9)==0):\n",
    "        print(num)"
   ]
  },
  {
   "cell_type": "code",
   "execution_count": 7,
   "metadata": {},
   "outputs": [
    {
     "name": "stdout",
     "output_type": "stream",
     "text": [
      "Enter num:18\n",
      "18\n",
      "Enter num:51\n",
      "Enter num:15\n",
      "Enter num:81\n",
      "81\n"
     ]
    }
   ],
   "source": [
    "for i in range(1,n+1):\n",
    "    num=int(input(\"Enter num:\"))\n",
    "    temp=num\n",
    "    sum=0\n",
    "    while temp>0:\n",
    "        sum=sum*10+temp%10\n",
    "        temp=temp//10\n",
    "    if ((sum%9)==0):\n",
    "        print(num)"
   ]
  },
  {
   "cell_type": "code",
   "execution_count": null,
   "metadata": {},
   "outputs": [],
   "source": []
  }
 ],
 "metadata": {
  "kernelspec": {
   "display_name": "Python 3",
   "language": "python",
   "name": "python3"
  },
  "language_info": {
   "codemirror_mode": {
    "name": "ipython",
    "version": 3
   },
   "file_extension": ".py",
   "mimetype": "text/x-python",
   "name": "python",
   "nbconvert_exporter": "python",
   "pygments_lexer": "ipython3",
   "version": "3.6.13"
  }
 },
 "nbformat": 4,
 "nbformat_minor": 2
}
